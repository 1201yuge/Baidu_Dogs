{
 "cells": [
  {
   "cell_type": "code",
   "execution_count": null,
   "metadata": {
    "collapsed": false,
    "scrolled": false
   },
   "outputs": [],
   "source": [
    "from keras.applications import *\n",
    "from keras.preprocessing.image import *\n",
    "import h5py\n",
    "import math\n",
    "import gc\n",
    "from keras.models import *\n",
    "from keras.layers import *\n",
    "from keras.optimizers import *\n",
    "import numpy as np\n",
    "from sklearn.utils import shuffle\n",
    "import pandas as pd\n",
    "from keras.callbacks import *\n",
    "import matplotlib.pyplot as plt\n",
    "from sklearn.cross_validation import train_test_split\n",
    "from sklearn.preprocessing import StandardScaler\n",
    "from sklearn.cross_validation import StratifiedKFold\n",
    "\n",
    "class LossHistory(Callback):\n",
    "    def on_train_begin(self, logs={}):\n",
    "        self.losses = []\n",
    "        self.val_losses = []\n",
    "        self.acc=[]\n",
    "        self.val_acc=[]\n",
    "\n",
    "    def on_epoch_end(self, batch, logs={}):\n",
    "        self.losses.append(logs.get('loss'))\n",
    "        self.val_losses.append(logs.get('val_loss'))\n",
    "        self.acc.append(logs.get('acc'))\n",
    "        self.val_acc.append(logs.get('val_acc'))\n",
    "\n",
    "\n",
    "nb_epoch = 500\n",
    "np.random.seed(1000)\n",
    "rootdir='model-final\\\\'\n",
    "X_train = []\n",
    "X_val = []\n",
    "X_test = []\n",
    "#-------------------------------------------------train\n",
    "for filename in ['datax2crop_ResNet152.h5',\"datax2crop_DenseNet161.h5\", \"datax2crop_Xception.h5\"]: \n",
    "    with h5py.File(rootdir+filename, 'r') as h:\n",
    "        X_train.append(np.array(h['train']))\n",
    "        y_train = np.array(h['label'])\n",
    "X_train = np.concatenate(X_train, axis=1)\n",
    "#-------------------------------------------------test\n",
    "for filename in ['testcrop_ResNet152.h5',\"testcrop_DenseNet161.h5\", \"testcrop_Xception.h5\"]: \n",
    "    with h5py.File(rootdir+'tmp\\\\'+filename, 'r') as h:\n",
    "        X_test.append(np.array(h['test']))\n",
    "X_test = np.concatenate(X_test, axis=1)\n",
    "\n",
    "X_train, y_train = shuffle(X_train, y_train)\n",
    "res=pd.DataFrame()\n",
    "skf=list(StratifiedKFold(y_train, n_folds=5, shuffle=True, random_state=1000))     \n",
    "\n",
    "dout=0.5\n",
    "classes=97\n",
    "y_train = np.eye(classes)[y_train]"
   ]
  },
  {
   "cell_type": "markdown",
   "metadata": {},
   "source": [
    "### 顶层使用sigmoid会在一定epoch后出现骤降，所有样本全部预测为0类，而骤降前停止迭代预测效果较好(巧合？)"
   ]
  },
  {
   "cell_type": "code",
   "execution_count": null,
   "metadata": {
    "collapsed": false,
    "scrolled": false
   },
   "outputs": [],
   "source": [
    "rounds=37\n",
    "i=0\n",
    "train=skf[i][0]\n",
    "input_tensor = Input(X_train.shape[1:])\n",
    "x = input_tensor\n",
    "x = Dropout(dout)(x)\n",
    "x = Dense(256, activation='relu')(x)\n",
    "x = Dropout(0.5)(x)\n",
    "x = Dense(classes, activation='softmax')(x)\n",
    "model = Model(inputs=input_tensor, outputs=x)\n",
    "model.compile(optimizer='adadelta',\n",
    "              loss='categorical_crossentropy',\n",
    "              metrics=['accuracy'])\n",
    "print(\"Fold\", i)\n",
    "\n",
    "model.fit(X_train[train], y_train[train], batch_size=32, epochs=rounds)\n",
    "# model.fit(X_train, y_train, batch_size=32, epochs=nb_epoch,validation_split=0.2,callbacks=[history, early_stopping])\n",
    "# model.fit(X_train, y_train, batch_size=32, epochs=30,validation_data=(X_val,y_val),callbacks=[history])\n",
    "res0=model.predict(X_test)"
   ]
  },
  {
   "cell_type": "code",
   "execution_count": null,
   "metadata": {
    "collapsed": false,
    "scrolled": true
   },
   "outputs": [],
   "source": [
    "rounds=37\n",
    "i=1\n",
    "train=skf[i][0]\n",
    "input_tensor = Input(X_train.shape[1:])\n",
    "x = input_tensor\n",
    "x = Dropout(dout)(x)\n",
    "x = Dense(256, activation='relu')(x)\n",
    "x = Dropout(0.5)(x)\n",
    "x = Dense(classes, activation='softmax')(x)\n",
    "model = Model(inputs=input_tensor, outputs=x)\n",
    "model.compile(optimizer='adadelta',\n",
    "              loss='categorical_crossentropy',\n",
    "              metrics=['accuracy'])\n",
    "print(\"Fold\", i)\n",
    "model.fit(X_train[train], y_train[train], batch_size=32, epochs=rounds)\n",
    "res1=model.predict(X_test)"
   ]
  },
  {
   "cell_type": "code",
   "execution_count": null,
   "metadata": {
    "collapsed": false,
    "scrolled": true
   },
   "outputs": [],
   "source": [
    "rounds=37\n",
    "i=2\n",
    "train=skf[i][0]\n",
    "input_tensor = Input(X_train.shape[1:])\n",
    "x = input_tensor\n",
    "x = Dropout(dout)(x)\n",
    "x = Dense(256, activation='relu')(x)\n",
    "x = Dropout(0.5)(x)\n",
    "x = Dense(classes, activation='softmax')(x)\n",
    "model = Model(inputs=input_tensor, outputs=x)\n",
    "model.compile(optimizer='adadelta',\n",
    "              loss='categorical_crossentropy',\n",
    "              metrics=['accuracy'])\n",
    "print(\"Fold\", i)\n",
    "model.fit(X_train[train], y_train[train], batch_size=32, epochs=rounds)\n",
    "res2=model.predict(X_test)"
   ]
  },
  {
   "cell_type": "code",
   "execution_count": null,
   "metadata": {
    "collapsed": false,
    "scrolled": true
   },
   "outputs": [],
   "source": [
    "rounds=37\n",
    "i=3\n",
    "train=skf[i][0]\n",
    "input_tensor = Input(X_train.shape[1:])\n",
    "x = input_tensor\n",
    "x = Dropout(dout)(x)\n",
    "x = Dense(256, activation='relu')(x)\n",
    "x = Dropout(0.5)(x)\n",
    "x = Dense(classes, activation='softmax')(x)\n",
    "model = Model(inputs=input_tensor, outputs=x)\n",
    "model.compile(optimizer='adadelta',\n",
    "              loss='categorical_crossentropy',\n",
    "              metrics=['accuracy'])\n",
    "print(\"Fold\", i)\n",
    "model.fit(X_train[train], y_train[train], batch_size=32, epochs=rounds)\n",
    "res3=model.predict(X_test)"
   ]
  },
  {
   "cell_type": "code",
   "execution_count": null,
   "metadata": {
    "collapsed": false,
    "scrolled": true
   },
   "outputs": [],
   "source": [
    "rounds=37\n",
    "i=4\n",
    "train=skf[i][0]\n",
    "input_tensor = Input(X_train.shape[1:])\n",
    "x = input_tensor\n",
    "x = Dropout(dout)(x)\n",
    "x = Dense(256, activation='relu')(x)\n",
    "x = Dropout(0.5)(x)\n",
    "x = Dense(classes, activation='softmax')(x)\n",
    "model = Model(inputs=input_tensor, outputs=x)\n",
    "model.compile(optimizer='adadelta',\n",
    "              loss='categorical_crossentropy',\n",
    "              metrics=['accuracy'])\n",
    "print(\"Fold\", i)\n",
    "model.fit(X_train[train], y_train[train], batch_size=32, epochs=rounds)\n",
    "res4=model.predict(X_test)"
   ]
  },
  {
   "cell_type": "code",
   "execution_count": null,
   "metadata": {
    "collapsed": false
   },
   "outputs": [],
   "source": [
    "res0.argmax(axis=1)"
   ]
  },
  {
   "cell_type": "code",
   "execution_count": null,
   "metadata": {
    "collapsed": false
   },
   "outputs": [],
   "source": [
    "with h5py.File(\"CV-final\\\\datax-r152_d161_x-37softmax.h5\") as h:\n",
    "    h.create_dataset(\"prob0\", data=res0)\n",
    "    h.create_dataset(\"prob1\", data=res1)\n",
    "    h.create_dataset(\"prob2\", data=res2)\n",
    "    h.create_dataset(\"prob3\", data=res3)\n",
    "    h.create_dataset(\"prob4\", data=res4)"
   ]
  }
 ],
 "metadata": {
  "anaconda-cloud": {},
  "kernelspec": {
   "display_name": "Python [default]",
   "language": "python",
   "name": "python3"
  },
  "language_info": {
   "codemirror_mode": {
    "name": "ipython",
    "version": 3
   },
   "file_extension": ".py",
   "mimetype": "text/x-python",
   "name": "python",
   "nbconvert_exporter": "python",
   "pygments_lexer": "ipython3",
   "version": "3.5.2"
  }
 },
 "nbformat": 4,
 "nbformat_minor": 1
}
